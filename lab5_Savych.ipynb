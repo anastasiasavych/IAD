{
 "cells": [
  {
   "cell_type": "markdown",
   "id": "18f281ae-d3d2-45ec-a8a4-94bf4ac6c92e",
   "metadata": {},
   "source": [
    "## Основна інформація\n",
    "\n",
    "<p style=\"font-family:Arial; font-size:18px;\"><strong>Джибуті</strong> - країна на сході Африки, що знаходиться на узбережжі Червоного моря та Аденської затоки. Вона межує з Еритреєю на півночі, Ефіопією на заході та півдні, і Сомалі на південному сході.</p>\n",
    "\n",
    "### Площина та населення\n",
    "\n",
    "- <span style=\"font-family:'Courier New'; font-size:18px;\"><strong>Площина</strong>: 23,200 км&#178;</span>\n",
    "- <span style=\"font-family:'Courier New'; font-size:18px;\"><strong>Населення</strong>: приблизно 1 мільйон осіб</span>\n",
    "\n",
    "### Державний устрій\n",
    "\n",
    "<p style=\"font-family:Arial; font-size:18px;\"><strong>Джибуті</strong> є унітарною республікою. Президент є головою держави, а прем'єр-міністр - головою уряду.</p>\n",
    "\n",
    "---\n",
    "\n",
    "## Видатні персоналії\n",
    "\n",
    "1. <span style=\"font-family:'Georgia'; font-size:16px;\"><strong>Ісмаїл Омар Гелле</strong> - чинний президент Джибуті.</span>\n",
    "2. <span style=\"font-family:'Georgia'; font-size:16px;\"><strong>Махмуд Харбі</strong> - один з лідерів національно-визвольного руху.</span>\n",
    "3. <span style=\"font-family:'Georgia'; font-size:16px;\"><strong>Хассан Гулеїд АPTIDON</strong> - засновник та перший президент Республіки Джибуті.</span>\n",
    "\n",
    "## Пам'ятки культури та природи\n",
    "\n",
    "- <span style=\"font-family:'Georgia'; font-size:16px;\"><strong>Лак Ассаль</strong> - найнижча точка Африки та одне з найбільш солоних озер у світі.</span>\n",
    "- <span style=\"font-family:'Georgia'; font-size:16px;\"><strong>Національний парк Форе дю Дей</strong> - відомий своєю різноманітною флорою та фауною.</span>\n",
    "- <span style=\"font-family:'Georgia'; font-size:16px;\"><strong>Археологічний комплекс Тагаара</strong> - місце розкопок давньої культури.</span>\n",
    "\n",
    "### Економіка\n",
    "\n",
    "<p style=\"font-family:Arial; font-size:16px;\">Економіка <strong>Джибуті</strong> в значній мірі залежить від послуг, зокрема від порту та транспортних послуг, які обслуговують сусідні країни.</p>\n",
    "\n",
    "### Культура\n",
    "\n",
    "<p style=\"font-family:Arial; font-size:16px;\"><strong>Джибуті</strong> має багату культурну спадщину, яка включає елементи африканської, арабської та французької культур. Відомі своїми музичними традиціями та народними танцями.</p>\n",
    "\n",
    "---\n",
    "\n",
    "### Зображення\n",
    "<img src=\"https://tsikavi-fakty.com.ua/wp-content/uploads/2020/05/961df359b709101223759ed27e8944a8.jpg\" alt=\"Лак Ассаль\" width=\"400\" />\n",
    "<p style=\"font-family:'Arial'; font-size:14px;\">Лак Ассаль</p>\n",
    "\n",
    "<img src=\"https://tsikavi-fakty.com.ua/wp-content/uploads/2020/05/06de338f580e62995dd478dcba102028.jpg\" alt=\"Національний парк Форе дю Дей\" width=\"400\" />\n",
    "<p style=\"font-family:'Arial'; font-size:14px;\">Національний парк Форе дю Дей</p>\n",
    "\n",
    "---\n",
    "\n",
    "## Таблиця основних фактів\n",
    "\n",
    "<table>\n",
    "  <tr>\n",
    "    <th style=\"font-family:'Arial'; font-size:16px;\">Факт</th>\n",
    "    <th style=\"font-family:'Arial'; font-size:16px;\">Опис</th>\n",
    "  </tr>\n",
    "  <tr>\n",
    "    <td style=\"font-family:'Georgia'; font-size:14px;\">Столиця</td>\n",
    "    <td style=\"font-family:'Georgia'; font-size:14px;\">Джибуті</td>\n",
    "  </tr>\n",
    "  <tr>\n",
    "    <td style=\"font-family:'Georgia'; font-size:14px;\">Офіційні мови</td>\n",
    "    <td style=\"font-family:'Georgia'; font-size:14px;\">Французька, арабська</td>\n",
    "  </tr>\n",
    "  <tr>\n",
    "    <td style=\"font-family:'Georgia'; font-size:14px;\">Валовий внутрішній продукт (ВВП)</td>\n",
    "    <td style=\"font-family:'Georgia'; font-size:14px;\">$3.1 мільярда</td>\n",
    "  </tr>\n",
    "  <tr>\n",
    "    <td style=\"font-family:'Georgia'; font-size:14px;\">Валюта</td>\n",
    "    <td style=\"font-family:'Georgia'; font-size:14px;\">Франк Джибуті (DJF)</td>\n",
    "  </tr>\n",
    "</table>\n",
    "\n",
    "---\n",
    "\n",
    "## Корисні посилання\n",
    "\n",
    "- <a href=\"https://uk.wikipedia.org/wiki/Джибуті\" style=\"font-family:'Arial'; font-size:16px;\">Wikipedia: Джибуті</a>\n",
    "- <a href=\"https://uk.wikipedia.org/wiki/Збройні_сили_Джибуті\" style=\"font-family:'Arial'; font-size:16px;\">Wikipedia: Збройні сили Джибуті</a>\n",
    "\n",
    "---\n",
    "\n",
    "<blockquote style=\"font-family:'Georgia'; font-size:16px;\">\n",
    "  <strong>Джибуті</strong> - це країна, яка є не лише важливим транспортним вузлом, але й багатою культурною спадщиною та природними красотами.\n",
    "</blockquote>"
   ]
  },
  {
   "cell_type": "code",
   "execution_count": 2,
   "id": "cede7bf5-ce10-4484-9cb7-a318041332ee",
   "metadata": {},
   "outputs": [
    {
     "data": {
      "text/html": [
       "<svg width=\"300\" height=\"180\" viewBox=\"0 0 300 180\" xmlns=\"http://www.w3.org/2000/svg\">\n",
       "  <rect width=\"300\" height=\"90\" fill=\"#00A86B\"/>\n",
       "  <rect y=\"90\" width=\"300\" height=\"90\" fill=\"#66CCFF\"/>\n",
       "  <polygon points=\"0,0 150,90 0,180\" fill=\"white\"/>\n",
       "  <polygon points=\"145,75 150,90 165,90 152,100 157,115 145,105 133,115 138,100 125,90 140,90\"\n",
       "           fill=\"red\" transform=\"translate(-100, 0) scale(1)\"/>\n",
       "</svg>\n"
      ],
      "text/plain": [
       "<IPython.core.display.HTML object>"
      ]
     },
     "metadata": {},
     "output_type": "display_data"
    }
   ],
   "source": [
    "%%HTML\n",
    "<svg width=\"300\" height=\"180\" viewBox=\"0 0 300 180\" xmlns=\"http://www.w3.org/2000/svg\">\n",
    "  <rect width=\"300\" height=\"90\" fill=\"#00A86B\"/>\n",
    "  <rect y=\"90\" width=\"300\" height=\"90\" fill=\"#66CCFF\"/>\n",
    "  <polygon points=\"0,0 150,90 0,180\" fill=\"white\"/>\n",
    "  <polygon points=\"145,75 150,90 165,90 152,100 157,115 145,105 133,115 138,100 125,90 140,90\"\n",
    "           fill=\"red\" transform=\"translate(-100, 0) scale(1)\"/>\n",
    "</svg>"
   ]
  },
  {
   "cell_type": "code",
   "execution_count": 3,
   "id": "d8b901ee-5c5c-412b-a00e-232876224069",
   "metadata": {},
   "outputs": [
    {
     "name": "stdin",
     "output_type": "stream",
     "text": [
      " 5 6 23 8 12 5\n"
     ]
    },
    {
     "name": "stdout",
     "output_type": "stream",
     "text": [
      "Було виконано 6 переставлень\n"
     ]
    }
   ],
   "source": [
    "# Сортування методом бульбашки\n",
    "def task_4():\n",
    "\n",
    "    input_list = input().strip().split()\n",
    "    numbers = [int(num) for num in input_list]\n",
    "    \n",
    "    swaps = 0\n",
    "    \n",
    "    # Реалізація сортування методом бульбашки\n",
    "    n = len(numbers)\n",
    "    for i in range(n):\n",
    "        for j in range(0, n-i-1):\n",
    "            if numbers[j] > numbers[j+1]:\n",
    "                numbers[j], numbers[j+1] = numbers[j+1], numbers[j]\n",
    "                swaps += 1\n",
    "    \n",
    "    print(f\"Було виконано {swaps} переставлень\")\n",
    "\n",
    "task_4()\n"
   ]
  }
 ],
 "metadata": {
  "kernelspec": {
   "display_name": "Python 3 (ipykernel)",
   "language": "python",
   "name": "python3"
  },
  "language_info": {
   "codemirror_mode": {
    "name": "ipython",
    "version": 3
   },
   "file_extension": ".py",
   "mimetype": "text/x-python",
   "name": "python",
   "nbconvert_exporter": "python",
   "pygments_lexer": "ipython3",
   "version": "3.11.7"
  }
 },
 "nbformat": 4,
 "nbformat_minor": 5
}
